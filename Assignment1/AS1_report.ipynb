{
 "cells": [
  {
   "cell_type": "markdown",
   "metadata": {},
   "source": [
    "# Question 1"
   ]
  },
  {
   "cell_type": "code",
   "execution_count": 1,
   "metadata": {},
   "outputs": [],
   "source": [
    "from pyspark.sql import SparkSession\n",
    "\n",
    "spark = SparkSession.builder \\\n",
    "    .master(\"local[2]\") \\\n",
    "    .appName(\"COM6012 Spark Intro\") \\\n",
    "    .getOrCreate()\n",
    "\n",
    "sc = spark.sparkContext\n",
    "sc.setLogLevel(\"WARN\")\n",
    "\n",
    "logFile=spark.read.text(\"NASA_access_log_Jul95.gz\").cache()"
   ]
  },
  {
   "cell_type": "code",
   "execution_count": 2,
   "metadata": {},
   "outputs": [
    {
     "name": "stdout",
     "output_type": "stream",
     "text": [
      "{'Saturday': 52617.2, 'Sunday': 36876.0, 'Monday': 36518.0, 'Tuesday': 60336.8, 'Wednesday': 69460.0, 'Thursday': 79674.5, 'Friday': 90859.0}\n"
     ]
    }
   ],
   "source": [
    "#01/jul/1995 is Saturday\n",
    "Days = ['Saturday','Sunday','Monday', 'Tuesday', 'Wednesday', 'Thursday', 'Friday']\n",
    "Sum_of_each_day={d:0 for d in Days}\n",
    "Count_of_each_day={d:0 for d in Days}\n",
    "\n",
    "for date in range(32):\n",
    "    if len(str(date)) == 1:\n",
    "        query = '0'+str(date)\n",
    "    else:\n",
    "        query = str(date)\n",
    "    Sum_of_each_day[Days[date%7]] +=\\\n",
    "    logFile.filter(logFile.value.contains(query+\"/Jul/1995\")).count()\n",
    "    Count_of_each_day[Days[date%7]] += 1\n",
    "Average_of_each_day = {d:(Sum_of_each_day[d]/Count_of_each_day[d]) for d in Days}\n",
    "print(Average_of_each_day)\n",
    "#{'Saturday': 52617.2, 'Sunday': 36876.0, 'Monday': 36518.0, 'Tuesday': 60336.8, \n",
    "#'Wednesday': 69460.0, 'Thursday': 79674.5, 'Friday': 90859.0}"
   ]
  },
  {
   "cell_type": "code",
   "execution_count": 3,
   "metadata": {},
   "outputs": [],
   "source": [
    "import matplotlib.pyplot as plt\n",
    "plt.rcdefaults()\n",
    "Average = list(Average_of_each_day.values())\n",
    "x = list(range(len(Days)))\n",
    "plt.figure(1)\n",
    "plt.bar(Days,Average, align='center', alpha=0.5)\n",
    "plt.ylabel('Average requests')\n",
    "plt.title('Average requests for each day')\n",
    "plt.savefig('Q1_figA.png')"
   ]
  },
  {
   "cell_type": "markdown",
   "metadata": {},
   "source": [
    "## Discuss\n",
    "\n",
    "It is expected that the number of requests would be higher in weekend, but the barchart shows that the average number of the requests tend to be higher in working days except Monday. This could be assumed that the main purpose of accessing NASA homepage is for working."
   ]
  },
  {
   "cell_type": "code",
   "execution_count": 4,
   "metadata": {},
   "outputs": [],
   "source": [
    "gif_request = logFile.filter(logFile.value.contains(\".gif\")).cache()\n"
   ]
  },
  {
   "cell_type": "code",
   "execution_count": 6,
   "metadata": {},
   "outputs": [
    {
     "name": "stdout",
     "output_type": "stream",
     "text": [
      "root\n",
      " |-- value: string (nullable = true)\n",
      "\n"
     ]
    }
   ],
   "source": [
    "gif_request.printSchema()"
   ]
  }
 ],
 "metadata": {
  "kernelspec": {
   "display_name": "Python 3",
   "language": "python",
   "name": "python3"
  },
  "language_info": {
   "codemirror_mode": {
    "name": "ipython",
    "version": 3
   },
   "file_extension": ".py",
   "mimetype": "text/x-python",
   "name": "python",
   "nbconvert_exporter": "python",
   "pygments_lexer": "ipython3",
   "version": "3.6.8"
  }
 },
 "nbformat": 4,
 "nbformat_minor": 2
}
